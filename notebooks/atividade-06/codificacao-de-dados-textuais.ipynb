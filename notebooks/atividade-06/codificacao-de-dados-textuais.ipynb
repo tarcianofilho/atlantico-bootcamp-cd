{
 "cells": [
  {
   "cell_type": "markdown",
   "id": "7fa3b7a2-bb4b-4dc0-acb5-7adbc610aa07",
   "metadata": {},
   "source": [
    "# Codificação de dados textuais"
   ]
  },
  {
   "cell_type": "markdown",
   "id": "0b8b0996-94b1-451b-a2cd-e3bb9028708d",
   "metadata": {},
   "source": [
    "## 1. Motivos para codificar variáveis textuais\n",
    "\n",
    "A prática de codificar variáveis textuais advém da necessidade de tornar o seu conteúdo mais acessível para avaliações em algoritmos, tendo em vista a complexidade que é encontrada nos mais diferentes idiomas. Podemos utilizar dois tipos de codificação para essa tarefa: *Bag of Words* e *TF-IDF*."
   ]
  },
  {
   "cell_type": "markdown",
   "id": "c5e0439f-2971-463d-8ee0-1a6c536f43e6",
   "metadata": {},
   "source": [
    "### 1.1. *Bag of Words*\n",
    "\n",
    "A codificação *Bag of Words* (em tradução livre: Saco de Palavras) consiste em codificar o texto a partir da quantidade de vezes em que cada palavra aparece no mesmo. \n",
    "\n",
    "Podemos tomar dois textos e associados respectivamente a dois conjuntos A e B tais que cada elemento deles é uma palavra do texto. Daí o conjunto *BoW1* será um dicionário associando a cada elemento distinto de A a quantidade de vezes que este ocorre no texto, ou seja, sua multiplicidade. Analogamente, fazemos para *BoW2*. \n",
    "\n",
    "Caso um terceiro texto texto seja a união dos dois textos, o conjunto *BoW3* será a união disjunta dos elementos de *BoW1* e *BoW2* somando-se a multiplicidade de cada elemento, daí temos:\n",
    "\n",
    "\\begin{align}\n",
    "BoW3=BoW1\\biguplus BoW2\n",
    "\\end{align}\n",
    "\n",
    "Podemos dividir este processo em três etapas: Seleção de dados, Geração de vocabulário e Geração de vetores a partir do documento apresentado."
   ]
  },
  {
   "cell_type": "markdown",
   "id": "6821d3d1-801e-4390-8121-6ad33db5934c",
   "metadata": {},
   "source": [
    "### 1.2. *Term Frequency Inverse Document Frequency*, i.e., *TF-IDF*\n",
    "\n",
    "A codificação *Term Frequency Inverse Document Frequency* (em tradução livre: Frequência do Termo Inverso da Frequência em Documento) é um artifício estatístico que calcula a relevância de uma palavra no texto, analisando a frequência com a qual aparece em um documento em relação a frequência em uma família de documentos. Para calcular o TF-IDF primeiramente precisamos definir duas propriedades:\n",
    "\n",
    "**Term Frequency:** Term Frequency (em tradução livre: Frequência do Termo) é a frequência relativa do termo *t* no documento *d*, sendo denotada por $\\mathrm {tf} (t,d)$, definida como:\n",
    "\n",
    "\\begin{align}\n",
    "\\mathrm {tf} (t,d)={\\frac {f_{t,d}}{\\sum _{t'\\in d}{f_{t',d}}}}\n",
    "\\end{align}\n",
    "\n",
    "onde $f_{t,d}$ é a quantidade de vezes que o termo *t* ocorre em *d*.\n",
    "\n",
    "**Inverse Document Frequency:** Inverse Document Frequency (em tradução livre: Frequência Inversa do Documento) é a medida da quantia de informação que a palavra oferece, isto é, se é comum ou raro na coleção de documentos *D*. É denotada por $\\mathrm {idf} (t,D)$, sendo a razão inversa logarítmica:\n",
    "\n",
    "\\begin{align}\n",
    "\\mathrm {idf} (t,D)=\\log {\\frac {N}{|\\{d\\in D:t\\in d\\}|}}\n",
    "\\end{align}\n",
    "\n",
    "onde $N={|D|}$ é a quantidade de documentos na coleção *D* e $|\\{d\\in D:t\\in d\\}|$ é o número de documentos onde o termo *t* aparece, i.e, $\\mathrm {tf} (t,d) \\neq 0$.\n",
    "\n",
    "Portanto, a codificação *TF-IDF* é dada por:\n",
    "\n",
    "\\begin{align}\n",
    "\\mathrm {tfidf} (t,d,D)=\\mathrm {tf} (t,d)\\cdot \\mathrm {idf} (t,D)\n",
    "\\end{align}"
   ]
  },
  {
   "cell_type": "markdown",
   "id": "fe617ca8-c3ec-48f5-8c9b-9df9bec6b36f",
   "metadata": {},
   "source": [
    "## 2. Aplicações"
   ]
  },
  {
   "cell_type": "markdown",
   "id": "29dc147a-e7c3-4302-81eb-293ea632a80e",
   "metadata": {},
   "source": [
    "### 2.1. Pré-processamento dos dados"
   ]
  },
  {
   "cell_type": "code",
   "execution_count": 10,
   "id": "0dda1587-1f62-4e26-a341-14cbd2aba30e",
   "metadata": {},
   "outputs": [],
   "source": [
    "# Importação de bibliotecas\n",
    "from sklearn.feature_extraction.text import CountVectorizer, TfidfVectorizer"
   ]
  },
  {
   "cell_type": "code",
   "execution_count": 11,
   "id": "f3783a66-338a-4783-a3f4-2af5d8913e6d",
   "metadata": {},
   "outputs": [
    {
     "name": "stdout",
     "output_type": "stream",
     "text": [
      "['john likes', 'likes to', 'to watch', 'watch movies', 'mary likes', 'likes movies', 'movies too']\n"
     ]
    }
   ],
   "source": [
    "# Carrega a lista de frases\n",
    "frases = [\n",
    "    \"John likes\",\n",
    "    \"likes to\",\n",
    "    \"to watch\",\n",
    "    \"watch movies\",\n",
    "    \"Mary likes\",\n",
    "    \"likes movies\",\n",
    "    \"movies too\",\n",
    "]\n",
    "# Converte os elementos em palavras com todas as letras minúsculas\n",
    "frases = list(map(lambda x: x.lower(), frases))\n",
    "print(frases)"
   ]
  },
  {
   "cell_type": "markdown",
   "id": "e1ac5363-e4da-455b-a301-0f9685a8815d",
   "metadata": {},
   "source": [
    "### 2.2. *Bag of Words*"
   ]
  },
  {
   "cell_type": "code",
   "execution_count": 14,
   "id": "81ec9f6c-beeb-4f34-a587-d53e6c450f8d",
   "metadata": {},
   "outputs": [
    {
     "name": "stdout",
     "output_type": "stream",
     "text": [
      "Vocabulário: {'john': 0, 'likes': 1, 'to': 4, 'watch': 6, 'movies': 3, 'mary': 2, 'too': 5} \n",
      "\n",
      "[[1 1 0 0 0 0 0]\n",
      " [0 1 0 0 1 0 0]\n",
      " [0 0 0 0 1 0 1]\n",
      " [0 0 0 1 0 0 1]\n",
      " [0 1 1 0 0 0 0]\n",
      " [0 1 0 1 0 0 0]\n",
      " [0 0 0 1 0 1 0]]\n"
     ]
    }
   ],
   "source": [
    "# Aplicação de BoW\n",
    "vector_bow = CountVectorizer()\n",
    "result = vector_bow.fit_transform(frases)\n",
    "\n",
    "# Mostra o Vocabulário\n",
    "print(f'Vocabulário: {vector_bow.vocabulary_} \\n')\n",
    "\n",
    "# Mostra o Resultado em matriz\n",
    "print(result.toarray())"
   ]
  },
  {
   "cell_type": "markdown",
   "id": "6687563a-399a-42c4-95c8-49e3aa192e78",
   "metadata": {},
   "source": [
    "### 2.3. *TF-IDF*"
   ]
  },
  {
   "cell_type": "code",
   "execution_count": 15,
   "id": "72932991-9487-44bf-8fc6-47ffdd69c368",
   "metadata": {},
   "outputs": [
    {
     "name": "stdout",
     "output_type": "stream",
     "text": [
      "Vocabulário: {'john': 0, 'likes': 1, 'to': 4, 'watch': 6, 'movies': 3, 'mary': 2, 'too': 5} \n",
      "\n",
      "IDF: [2.38629436 1.47000363 2.38629436 1.69314718 1.98082925 2.38629436\n",
      " 1.98082925] \n",
      "\n",
      "Shape: (7, 7) \n",
      "\n",
      "[[0.85141699 0.52448938 0.         0.         0.         0.\n",
      "  0.        ]\n",
      " [0.         0.59594003 0.         0.         0.80302894 0.\n",
      "  0.        ]\n",
      " [0.         0.         0.         0.         0.70710678 0.\n",
      "  0.70710678]\n",
      " [0.         0.         0.         0.64974959 0.         0.\n",
      "  0.76014832]\n",
      " [0.         0.52448938 0.85141699 0.         0.         0.\n",
      "  0.        ]\n",
      " [0.         0.65559486 0.         0.75511282 0.         0.\n",
      "  0.        ]\n",
      " [0.         0.         0.         0.57866699 0.         0.81556393\n",
      "  0.        ]]\n"
     ]
    }
   ],
   "source": [
    "# Aplicação de TF-IDF\n",
    "vector_tfidf = TfidfVectorizer()\n",
    "result = vector_tfidf.fit_transform(frases)\n",
    "\n",
    "# Mostra o vocabulário\n",
    "print(f'Vocabulário: {vector_tfidf.vocabulary_} \\n')\n",
    "\n",
    "# Mostra o IDF (Quanto maior a frequência, menor a relevância)\n",
    "print(f'IDF: {vector_tfidf.idf_} \\n')\n",
    "\n",
    "# Mostra a forma da matriz\n",
    "print(f'Shape: {result.shape} \\n')\n",
    "\n",
    "# Mostra o Array\n",
    "print(result.toarray())"
   ]
  },
  {
   "cell_type": "code",
   "execution_count": null,
   "id": "f051afa4-3996-489a-8269-9f2190af6161",
   "metadata": {},
   "outputs": [],
   "source": []
  }
 ],
 "metadata": {
  "kernelspec": {
   "display_name": "Python 3 (ipykernel)",
   "language": "python",
   "name": "python3"
  },
  "language_info": {
   "codemirror_mode": {
    "name": "ipython",
    "version": 3
   },
   "file_extension": ".py",
   "mimetype": "text/x-python",
   "name": "python",
   "nbconvert_exporter": "python",
   "pygments_lexer": "ipython3",
   "version": "3.8.10"
  }
 },
 "nbformat": 4,
 "nbformat_minor": 5
}
